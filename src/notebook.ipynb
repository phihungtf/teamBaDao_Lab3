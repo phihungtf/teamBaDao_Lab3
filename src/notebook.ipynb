{
  "cells": [
    {
      "cell_type": "markdown",
      "metadata": {
        "id": "tChWFAUf8CAg"
      },
      "source": [
        "# Part 0: Setting up"
      ]
    },
    {
      "cell_type": "markdown",
      "metadata": {
        "id": "867SO8F24Enh"
      },
      "source": [
        "## Install and start MongoDB"
      ]
    },
    {
      "cell_type": "code",
      "execution_count": null,
      "metadata": {
        "id": "enbk0ZkjoxPO"
      },
      "outputs": [],
      "source": [
        "!apt install -qq mongodb\n",
        "!service mongodb start"
      ]
    },
    {
      "cell_type": "markdown",
      "metadata": {
        "id": "7dph1tTf4HkU"
      },
      "source": [
        "## Download dataset and push to our mongodb "
      ]
    },
    {
      "cell_type": "code",
      "execution_count": null,
      "metadata": {
        "id": "cy-r-AQ2pZM0"
      },
      "outputs": [],
      "source": [
        "# It's already the 21st century and people are very impatient, so they use Brotli for text and Zstd for everything else.\n",
        "# Reference: https://github.com/google/brotli\n",
        "!apt-get install -qq brotli"
      ]
    },
    {
      "cell_type": "code",
      "execution_count": null,
      "metadata": {
        "id": "XNT5v0BkpMWa"
      },
      "outputs": [],
      "source": [
        "!wget -q https://csc14118.github.io/thuoc_raw.json.br\n",
        "!wget -q https://csc14118.github.io/gia_ke_khai_raw.json.br\n",
        "!wget -q https://csc14118.github.io/movies_lang.json.br "
      ]
    },
    {
      "cell_type": "code",
      "execution_count": null,
      "metadata": {
        "id": "qqVJXO4TpQDZ"
      },
      "outputs": [],
      "source": [
        "!brotli -d *.br"
      ]
    },
    {
      "cell_type": "code",
      "execution_count": null,
      "metadata": {
        "id": "p2AGMuFp6x2u"
      },
      "outputs": [],
      "source": [
        "!pip install -q pymongo"
      ]
    },
    {
      "cell_type": "code",
      "execution_count": null,
      "metadata": {
        "id": "4lGAVCVCpz_9"
      },
      "outputs": [],
      "source": [
        "import json\n",
        "from pymongo import MongoClient\n",
        "\n",
        "client = MongoClient()\n",
        "\n",
        "# Creation of the new database\n",
        "db = client['input_data']\n",
        "\n",
        "collection_name = [\"gia_ke_khai_raw\", \"movies_lang\", \"thuoc_raw\"]\n",
        "\n",
        "# Push our data to mongodb\n",
        "for data in collection_name:\n",
        "    collection = db[data]\n",
        "    chunks = json.load(open(f'{data}.json'))\n",
        "    collection.insert_many(chunks)\n",
        "\n",
        "# Create a dummy database to test\n",
        "db = client['dummy']\n",
        "db['chunks'].insert_many([{'Banh xeo': 'Rat ngon'},{'Banh bao': 'Cung ngon'}])\n",
        "\n",
        "client.list_database_names()"
      ]
    },
    {
      "cell_type": "markdown",
      "metadata": {
        "id": "BPgvKHYi46Zh"
      },
      "source": [
        "## Install pyspark"
      ]
    },
    {
      "cell_type": "code",
      "execution_count": null,
      "metadata": {
        "id": "3BQOC48fkpMX"
      },
      "outputs": [],
      "source": [
        "!apt-get install openjdk-8-jdk-headless -qq > /dev/null\n",
        "!wget -q \"https://archive.apache.org/dist/spark/spark-3.1.1/spark-3.1.1-bin-hadoop2.7.tgz\"\n",
        "!tar xf spark-3.1.1-bin-hadoop2.7.tgz\n",
        "!pip install -q findspark"
      ]
    },
    {
      "cell_type": "code",
      "execution_count": null,
      "metadata": {
        "id": "nJFxkwtAkt3U"
      },
      "outputs": [],
      "source": [
        "import os\n",
        "os.environ[\"JAVA_HOME\"] = \"/usr/lib/jvm/java-8-openjdk-amd64\"\n",
        "os.environ[\"SPARK_HOME\"] = \"spark-3.1.1-bin-hadoop2.7\"\n",
        "import findspark\n",
        "findspark.init()\n",
        "findspark.find()"
      ]
    },
    {
      "cell_type": "code",
      "execution_count": null,
      "metadata": {
        "id": "qgjKoGjDzZgu"
      },
      "outputs": [],
      "source": [
        "import pyspark\n",
        "print(pyspark.__version__)"
      ]
    },
    {
      "cell_type": "markdown",
      "metadata": {
        "id": "N4x3MtDq494s"
      },
      "source": [
        "## Dirty trick to connect spark to our mongodb\n",
        "\n",
        "In industry environment, please read the docs carefully to seting up these complicated things."
      ]
    },
    {
      "cell_type": "code",
      "execution_count": null,
      "metadata": {
        "id": "J3kZd3CZNIY-"
      },
      "outputs": [],
      "source": [
        "!rm $SPARK_HOME/jars/mongo*.jar\n",
        "!rm $SPARK_HOME/jars/bson*.jar"
      ]
    },
    {
      "cell_type": "code",
      "execution_count": null,
      "metadata": {
        "id": "wPavC4NBR0fn"
      },
      "outputs": [],
      "source": [
        "!cd $SPARK_HOME/jars && wget https://repo1.maven.org/maven2/org/mongodb/spark/mongo-spark-connector_2.12/10.1.1/mongo-spark-connector_2.12-10.1.1.jar\n",
        "!cd $SPARK_HOME/jars && wget https://repo1.maven.org/maven2/org/mongodb/mongodb-driver/3.12.12/mongodb-driver-3.12.12.jar\n",
        "!cd $SPARK_HOME/jars && wget https://repo1.maven.org/maven2/org/mongodb/mongo-java-driver/3.12.12/mongo-java-driver-3.12.12.jar\n",
        "!cd $SPARK_HOME/jars && wget https://repo1.maven.org/maven2/org/mongodb/bson/4.6.0/bson-4.6.0.jar"
      ]
    },
    {
      "cell_type": "code",
      "execution_count": null,
      "metadata": {
        "id": "E9Z415K4fRED"
      },
      "outputs": [],
      "source": [
        "from pyspark.shell import spark\n",
        "from pyspark import SparkContext,SparkConf\n",
        "\n",
        "uri = \"mongodb://localhost:27017/input_data\"\n",
        "\n",
        "from pyspark.sql import SparkSession\n",
        "\n",
        "spark_jb = \"org.mongodb.spark:mongo-spark-connector_2.12:10.1.1\"\n",
        "my_spark = SparkSession \\\n",
        "    .builder \\\n",
        "    .config(\"spark.executor.memory\", \"1g\") \\\n",
        "    .appName(\"csc14112\") \\\n",
        "    .config(\"spark.mongodb.read.connection.uri\", uri) \\\n",
        "    .config(\"spark.mongodb.write.connection.uri\", uri) \\\n",
        "    .getOrCreate()"
      ]
    },
    {
      "cell_type": "code",
      "execution_count": null,
      "metadata": {
        "id": "VIcRV6NEfdM5"
      },
      "outputs": [],
      "source": [
        "# Test read data from our mongo db\n",
        "p = my_spark.read.format(\"mongodb\").option(\"database\",\"dummy\").option(\"collection\", \"chunk\").load()\n",
        "p.printSchema()"
      ]
    },
    {
      "cell_type": "code",
      "execution_count": null,
      "metadata": {
        "id": "7QDbkF7Wpl4f"
      },
      "outputs": [],
      "source": [
        "p.show()"
      ]
    },
    {
      "cell_type": "markdown",
      "metadata": {
        "id": "OOBcV-zg8IPv"
      },
      "source": [
        "# Part 1: Introduction to PySpark"
      ]
    },
    {
      "cell_type": "markdown",
      "metadata": {
        "id": "LejimkJO8u6A"
      },
      "source": [
        "\n",
        "In this lab assignment, we will work with a movie dataset loaded into our MongoDB at `input_data.movies_lang`. We will use PySpark RDD and DataFrame to perform the following tasks:"
      ]
    },
    {
      "cell_type": "code",
      "execution_count": null,
      "metadata": {
        "id": "29SbDUgzQksL"
      },
      "outputs": [],
      "source": [
        "# read data from mongodb as DataFrame\n",
        "movies_df = my_spark.read.format(\"mongodb\").option(\"database\", \"input_data\").option(\"collection\", \"movies_lang\").load()\n",
        "# convert into RDD\n",
        "movies_rdd = movies_df.rdd\n",
        "# print the schema\n",
        "movies_df.printSchema()"
      ]
    },
    {
      "cell_type": "markdown",
      "metadata": {
        "id": "mjQyMcL59FwB"
      },
      "source": [
        "### (a) Count the number of movies by country. Sort by count in decreasing order."
      ]
    },
    {
      "cell_type": "code",
      "execution_count": null,
      "metadata": {
        "id": "qOKzEl44nj6V"
      },
      "outputs": [],
      "source": [
        "# count the number of movies by country\n",
        "n_movies_by_country_rdd = movies_rdd \\\n",
        "                          .map(lambda row: (row.country, 1)) \\\n",
        "                          .reduceByKey(lambda x, y: x + y) \\\n",
        "                          .sortBy(lambda x: x[1], ascending=False)\n",
        "n_movies_by_country_rdd.collect()"
      ]
    },
    {
      "cell_type": "markdown",
      "metadata": {
        "id": "Gi9OiL_K8610"
      },
      "source": [
        "### (b) Return the titles of the movies produced in France."
      ]
    },
    {
      "cell_type": "code",
      "execution_count": null,
      "metadata": {
        "id": "nuIk85yf-5EX"
      },
      "outputs": [],
      "source": [
        "# filter the movies produced in France and select the titles\n",
        "movies_in_fr_rdd = movies_rdd \\\n",
        "                  .filter(lambda row: row.country == \"FR\") \\\n",
        "                  .map(lambda row: row.title)\n",
        "movies_in_fr_rdd.collect()"
      ]
    },
    {
      "cell_type": "markdown",
      "metadata": {
        "id": "RWIrwllI-9LI"
      },
      "source": [
        "### (c) Return the title of the movies of which Sofia Coppola is one of the actresses. "
      ]
    },
    {
      "cell_type": "code",
      "execution_count": null,
      "metadata": {
        "id": "XznCrQxy-858"
      },
      "outputs": [],
      "source": [
        "def is_has_sofia(actors):\n",
        "  return any(actor.first_name == \"Sofia\" and \n",
        "             actor.last_name == \"Coppola\" for\n",
        "             actor in actors)\n",
        "\n",
        "# filter the movies where Sofia Coppola is one of the actors and select the titles\n",
        "sofia_movies_rdd = movies_rdd \\\n",
        "                  .filter(lambda row: is_has_sofia(row.actors)) \\\n",
        "                  .map(lambda row: row.title)\n",
        "sofia_movies_rdd.collect()"
      ]
    },
    {
      "cell_type": "markdown",
      "metadata": {
        "id": "rqtvCzPV_Con"
      },
      "source": [
        "### (d) Return the names and birth dates of the directors of movies produced in France.\n"
      ]
    },
    {
      "cell_type": "code",
      "execution_count": null,
      "metadata": {
        "id": "ZBzAdOj8_Cb3"
      },
      "outputs": [],
      "source": [
        "# extract the names and birth dates\n",
        "directors_rdd = movies_rdd \\\n",
        "                .filter(lambda row: row.country == \"FR\") \\\n",
        "                .map(lambda row: (row.director.first_name + \" \" + row.director.last_name, row.director.birth_date))\n",
        "directors_rdd.collect()"
      ]
    },
    {
      "cell_type": "markdown",
      "metadata": {
        "id": "jtYnldOV_MXj"
      },
      "source": [
        "### (e) Return the average number of actors in a film.\n"
      ]
    },
    {
      "cell_type": "code",
      "execution_count": null,
      "metadata": {
        "id": "RQmY486U_PaW"
      },
      "outputs": [],
      "source": [
        "# calculate the total number of actors and the total number of films\n",
        "total_actors = movies_rdd \\\n",
        "              .map(lambda doc: len(doc['actors'])) \\\n",
        "              .sum()\n",
        "total_films = movies_rdd.count()\n",
        "\n",
        "# calculate the average number of actors in a film\n",
        "avg_actors = total_actors / total_films\n",
        "avg_actors"
      ]
    },
    {
      "cell_type": "markdown",
      "metadata": {
        "id": "vbZmOOAz_RDj"
      },
      "source": [
        "### (f) Return the name of the actor that acted in the most movies."
      ]
    },
    {
      "cell_type": "code",
      "execution_count": null,
      "metadata": {
        "id": "V6ZKk9Ts_StS"
      },
      "outputs": [],
      "source": [
        "# get the actors and number of their movies\n",
        "actors_rdd = movies_rdd \\\n",
        "            .map(lambda x: x.actors) \\\n",
        "            .flatMap(lambda x: x) \\\n",
        "            .map(lambda x: (x._id, (x.first_name + \" \" + x.last_name, 1))) \\\n",
        "            .reduceByKey(lambda x, y: (x[0], x[1] + y[1])) \\\n",
        "            .sortBy(lambda x: x[1][1], ascending=False)\n",
        "\n",
        "# actors_rdd.first()[1][0]\n",
        "actors_rdd.first()\n"
      ]
    },
    {
      "cell_type": "markdown",
      "metadata": {
        "id": "1p8qOmwE8MU8"
      },
      "source": [
        "# Part 2: Real-world Data Manipulation"
      ]
    },
    {
      "cell_type": "markdown",
      "metadata": {
        "id": "6Xjjk5Sg_xuO"
      },
      "source": [
        "In this part of the lab, we will work with two collections in our MongoDB: `gia_ke_khai_raw` and `thuoc_raw` loaded at `input_data.gia_ke_khai_raw` and `input_data.thuoc_raw` respectively. We will use PySpark RDD and DataFrame to perform the following tasks:"
      ]
    },
    {
      "cell_type": "markdown",
      "metadata": {
        "id": "QJXKtUUkHDLn"
      },
      "source": [
        "### (a)  Read the datasets into a DataFrame and print out the schema and the number of records."
      ]
    },
    {
      "cell_type": "code",
      "execution_count": null,
      "metadata": {
        "id": "BsEKB1yk_o7d"
      },
      "outputs": [],
      "source": [
        "# read data from mongodb as DataFrame\n",
        "gia_ke_khai_df = my_spark.read \\\n",
        "                .format(\"mongodb\") \\\n",
        "                .option(\"database\", \"input_data\") \\\n",
        "                .option(\"collection\", \"gia_ke_khai_raw\") \\\n",
        "                .load()\n",
        "# convert into RDD\n",
        "gia_ke_khai_rdd = gia_ke_khai_df.rdd\n",
        "# print the schema\n",
        "gia_ke_khai_df.printSchema()"
      ]
    },
    {
      "cell_type": "code",
      "execution_count": null,
      "metadata": {
        "id": "tnss6XRVh0Gq"
      },
      "outputs": [],
      "source": [
        "gia_ke_khai_rdd.count()"
      ]
    },
    {
      "cell_type": "code",
      "execution_count": null,
      "metadata": {
        "id": "P7AMh6C5Lj14"
      },
      "outputs": [],
      "source": [
        "# read data from mongodb as DataFrame\n",
        "thuoc_df = my_spark.read \\\n",
        "                .format(\"mongodb\") \\\n",
        "                .option(\"database\", \"input_data\") \\\n",
        "                .option(\"collection\", \"thuoc_raw\") \\\n",
        "                .load()\n",
        "# convert into RDD\n",
        "thuoc_rdd = thuoc_df.rdd\n",
        "# print the schema\n",
        "thuoc_df.printSchema()"
      ]
    },
    {
      "cell_type": "code",
      "execution_count": null,
      "metadata": {
        "id": "QW0pSRvXh4pa"
      },
      "outputs": [],
      "source": [
        "thuoc_rdd.count()"
      ]
    },
    {
      "cell_type": "markdown",
      "metadata": {
        "id": "KrwAxI--bzks"
      },
      "source": [
        "### (b) Show all records in the `thuoc_raw` collection that have the same active pharmaceutical ingredient (API) in their `hoatChat` field as their medicine name.\n",
        "\n",
        "\n",
        "Notes: In the context of medication, API stands for Active Pharmaceutical Ingredient, which is the biologically active component in a drug that produces the intended therapeutic effect. In other words, it is the chemical substance that gives a medicine its medicinal properties."
      ]
    },
    {
      "cell_type": "code",
      "execution_count": null,
      "metadata": {
        "id": "myaTwNj8byW0"
      },
      "outputs": [],
      "source": [
        "# filter the RDD to include only records with the same value for hoatChat and tenThuoc\n",
        "result_rdd = thuoc_rdd.filter(lambda row: row[\"hoatChat\"] == row[\"tenThuoc\"])\n",
        "\n",
        "# print the results\n",
        "result_rdd.collect()"
      ]
    },
    {
      "cell_type": "markdown",
      "metadata": {
        "id": "9e0N9KtvIIS4"
      },
      "source": [
        "### (c) Create a new DataFrame from the `thuoc_raw` collection that splits the API in the `hoatChat` field into multiple rows. For example, \"paracetamol\" is the API in \"Paracetamol 500 mg,\" and \"amoxicillin\" is the API in various medications such as \"Amogentine 500mg/125mg,\" \"Augbactam 1g/200mg,\" and \"Viamomentin.\" The resulting DataFrame should have two columns: `hoatChat` and `thuocTuongUng` as a list. After processing the data, write it back to our MongoDB at `output_data.thuocthaythe`."
      ]
    },
    {
      "cell_type": "code",
      "execution_count": null,
      "metadata": {
        "id": "BQzlRdrKag1A"
      },
      "outputs": [],
      "source": [
        "import re\n",
        "class APIRegexHelper:\n",
        "\tdef __init__(self, string):\n",
        "\t\tself.string = string\n",
        "\t\t\n",
        "\t# remove mass and unit\n",
        "\tdef remove_mass_and_unit(self):\n",
        "\t\t# remove mass\n",
        "\t\tself.string = re.sub(r'\\d+((,|\\.)\\d+)*\\s*(mg|mcg|IU|UI|g|ml|l|kg|mm|\\%|đơn vị USP)', '', self.string)\n",
        "\t\treturn self\n",
        "\n",
        "\t# remove leading and trailing spaces\n",
        "\tdef remove_space(self):\n",
        "\t\tself.string = self.string.strip()\n",
        "\t\treturn self\n",
        "\n",
        "\t# remove all the string after the first parenthesis\n",
        "\tdef remove_parenthesis(self):\n",
        "\t\tself.string = re.sub(r'(\\(|\\)).*', '', self.string)\n",
        "\t\treturn self\n",
        "\t\n",
        "\t# remove all the slash\n",
        "\tdef remove_slash(self):\n",
        "\t\tself.string = re.sub(r'\\s*/', '', self.string)\n",
        "\t\treturn self\n",
        "\n",
        "\t# remove all the string before the first colon\n",
        "\tdef remove_colon(self):\n",
        "\t\tself.string = re.sub(r'.*:', '', self.string)\n",
        "\t\treturn self\n",
        "\t\n",
        "\t# remove ratio\n",
        "\tdef remove_ratio(self):\n",
        "\t\tself.string = re.sub(r'\\d+:\\d+', '', self.string)\n",
        "\t\treturn self\n",
        "\t\n",
        "\t# remove line break\n",
        "\tdef remove_line_break(self):\n",
        "\t\tself.string = re.sub(r'\\n', '', self.string)\n",
        "\t\treturn self\n",
        "\t\n",
        "\t# to lower case\n",
        "\tdef to_lower_case(self):\n",
        "\t\tself.string = self.string.lower()\n",
        "\t\treturn self\n",
        "\t\n",
        "\t# remove similar strings\n",
        "\tdef remove_similar_string(self):\n",
        "\t\tself.string = re.sub(r'(tương đương|tương ứng|dưới dạng|dạng).*', '', self.string)\n",
        "\t\treturn self\n",
        "\n",
        "class UltimateAPIRegex:\n",
        "\tdef __init__(self, string):\n",
        "\t\tself.string = string\n",
        "\t\tself.apis = []\n",
        "\t\t\n",
        "\tdef get_apis(self):\n",
        "\t\t# split by comma or semicolon that not followed by digit\n",
        "\t\ttemp_list = re.split(r'(,|;)\\s*(?![0-9])', self.string)\n",
        "\t\tfor s in temp_list:\n",
        "\t\t\ttemp = APIRegexHelper(s) \\\n",
        "\t\t\t\t\t.remove_line_break() \\\n",
        "\t\t\t\t\t.remove_mass_and_unit() \\\n",
        "\t\t\t \t\t.remove_parenthesis() \\\n",
        "\t\t\t\t\t.remove_ratio() \\\n",
        "\t\t\t \t\t.remove_colon() \\\n",
        "\t\t\t \t\t.remove_slash() \\\n",
        "\t\t\t\t\t.remove_similar_string() \\\n",
        "\t\t\t\t\t.remove_space() \\\n",
        "\t\t\t\t\t.to_lower_case()\t\t\t\t\t\n",
        "\t\t\tself.apis.append(temp.string)\n",
        "\t\tself.remove_incorrect_string().add_vitamin()\n",
        "\t\treturn self.apis\n",
        "\t\n",
        "\t# remove incorrect strings\n",
        "\tdef remove_incorrect_string(self):\n",
        "\t\tincorrect_strings = [';', '(', ')', ':', '', ' ', ',', '...', '--', '…']\n",
        "\t\tself.apis = [s for s in self.apis if s not in incorrect_strings]\n",
        "\t\treturn self\n",
        "\n",
        "\t# add vitamin\n",
        "\tdef add_vitamin(self):\n",
        "\t\tfor i in range(len(self.apis)):\n",
        "\t\t\tif len(self.apis[i]) <= 2:\n",
        "\t\t\t\tself.apis[i] = 'vitamin ' + self.apis[i]\n",
        "\t\treturn self"
      ]
    },
    {
      "cell_type": "code",
      "execution_count": null,
      "metadata": {
        "id": "VA0Gjm3HWb70"
      },
      "outputs": [],
      "source": [
        "thuoc_thay_the_rdd = thuoc_rdd \\\n",
        "                    .map(lambda x: (UltimateAPIRegex(x.hoatChat).get_apis(), x.tenThuoc)) \\\n",
        "                    .flatMap(lambda x: [(v, x[1]) for v in x[0]]) \\\n",
        "                    .groupByKey() \\\n",
        "                    .map(lambda x: (x[0], list(x[1])))\n",
        "        \n",
        "thuoc_thay_the_rdd.top(10)"
      ]
    },
    {
      "cell_type": "code",
      "execution_count": null,
      "metadata": {
        "id": "th44n8a9cDm-"
      },
      "outputs": [],
      "source": [
        "# turn into DataFrame\n",
        "thuoc_thay_the_df = thuoc_thay_the_rdd.toDF([\"hoatChat\", \"thuocTuongUng\"])\n",
        "thuoc_thay_the_df.show()"
      ]
    },
    {
      "cell_type": "code",
      "execution_count": null,
      "metadata": {
        "id": "GAKHwxN9drHY"
      },
      "outputs": [],
      "source": [
        "# write to database\n",
        "thuoc_thay_the_df.write \\\n",
        ".format(\"mongodb\") \\\n",
        ".option(\"database\", \"output_data\") \\\n",
        ".option(\"collection\", \"thuocthaythe\") \\\n",
        ".mode(\"overwrite\") \\\n",
        ".save()"
      ]
    },
    {
      "cell_type": "code",
      "execution_count": null,
      "metadata": {
        "id": "FQPREEr4ekom"
      },
      "outputs": [],
      "source": [
        "# check\n",
        "thuoc = my_spark.read \\\n",
        ".format(\"mongodb\") \\\n",
        ".option(\"database\", \"output_data\") \\\n",
        ".option(\"collection\", \"thuocthaythe\") \\\n",
        ".load()\n",
        "thuoc.show()"
      ]
    },
    {
      "cell_type": "markdown",
      "metadata": {
        "id": "sQ00j4TuHosd"
      },
      "source": [
        "### (d) Create new DataFrame from two mentioned above that contains  `tenThuoc`, `hoatChat`, `dongGoi`, `dvt` and `giaBan`. After process the data, write it back to our mongodb at `output_data.giathuoc`."
      ]
    },
    {
      "cell_type": "code",
      "execution_count": null,
      "metadata": {
        "id": "CYH11Bsnk164"
      },
      "outputs": [],
      "source": [
        "gia_ke_khai_rdd = gia_ke_khai_df.rdd\n",
        "thuoc_rdd = thuoc_df.rdd\n",
        "# select necessary columns from gia_ke_khai_rdd\n",
        "gia_ke_khai_rdd = gia_ke_khai_rdd \\\n",
        "                  .map(lambda x: (\n",
        "                      x[\"sdk\"],\n",
        "                      {\n",
        "                          \"dvt\": x[\"dvt\"],\n",
        "                          \"giaBan\": x[\"giaBan\"]\n",
        "                       }\n",
        "                  ))\n",
        "# select necessary columns from thuoc_rdd\n",
        "thuoc_rdd = thuoc_rdd \\\n",
        "            .map(lambda x: (\n",
        "                x[\"soDangKy\"],\n",
        "                {\n",
        "                    \"tenThuoc\": x[\"tenThuoc\"],\n",
        "                    \"hoatChat\": x[\"hoatChat\"],\n",
        "                    \"dongGoi\": x[\"dongGoi\"],\n",
        "                }\n",
        "            ))\n",
        "# join two rdds on the common keys\n",
        "joined_rdd = gia_ke_khai_rdd.join(thuoc_rdd)\n",
        "# create a dictionary with necessary columns and values\n",
        "giathuoc_rdd = joined_rdd \\\n",
        "            .map(lambda x: {\n",
        "                \"tenThuoc\": x[1][1][\"tenThuoc\"],\n",
        "                \"hoatChat\": x[1][1][\"hoatChat\"],\n",
        "                \"dongGoi\": x[1][1][\"dongGoi\"],\n",
        "                \"dvt\": x[1][0][\"dvt\"],\n",
        "                \"giaBan\": x[1][0][\"giaBan\"]\n",
        "            })\n",
        "\n",
        "giathuoc_df = giathuoc_rdd.toDF()\n",
        "giathuoc_df.show()"
      ]
    },
    {
      "cell_type": "code",
      "execution_count": null,
      "metadata": {
        "id": "4gTxPYlojPkm"
      },
      "outputs": [],
      "source": [
        "# write to database\n",
        "giathuoc_df.write \\\n",
        ".format(\"mongodb\") \\\n",
        ".option(\"database\", \"output_data\") \\\n",
        ".option(\"collection\", \"giathuoc\") \\\n",
        ".mode(\"overwrite\") \\\n",
        ".save()"
      ]
    },
    {
      "cell_type": "code",
      "execution_count": null,
      "metadata": {
        "id": "h6bNVtF5ujF5"
      },
      "outputs": [],
      "source": [
        "# check\n",
        "giathuoc = my_spark.read \\\n",
        ".format(\"mongodb\") \\\n",
        ".option(\"database\", \"output_data\") \\\n",
        ".option(\"collection\", \"giathuoc\") \\\n",
        ".load()\n",
        "\n",
        "giathuoc.show()"
      ]
    }
  ],
  "metadata": {
    "accelerator": "GPU",
    "colab": {
      "collapsed_sections": [
        "867SO8F24Enh",
        "OOBcV-zg8IPv"
      ],
      "private_outputs": true,
      "provenance": []
    },
    "gpuClass": "standard",
    "kernelspec": {
      "display_name": "Python 3",
      "name": "python3"
    },
    "language_info": {
      "name": "python"
    }
  },
  "nbformat": 4,
  "nbformat_minor": 0
}
